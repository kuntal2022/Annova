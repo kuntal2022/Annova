{
 "cells": [
  {
   "cell_type": "markdown",
   "id": "7e5f2039",
   "metadata": {},
   "source": [
    "# Q1. Explain the assumptions required to use ANOVA and provide examples of violations that could impact the validity of the results\n",
    "\n",
    "\n",
    "# ANS:\n",
    "#### Assumption\n",
    "* Normality of sampling distribution of mean\n",
    "* Absenece of outliers\n",
    "* Homogenicity of variance\n",
    "* Sample are independent and random\n",
    "\n",
    "\n",
    "#### \n",
    "##### Violation of normality: \n",
    ">If the dependent variable is not normally distributed within each group, ANOVA may produce inaccurate results. For example, if the data is highly skewed or has outliers, this could violate the normality assumption.\n",
    "\n",
    "###### Violation of homogeneity of variance: \n",
    "> If the variance of the dependent variable is not equal across all groups, ANOVA may produce inaccurate results. For example, if one group has a much larger variance than the other groups, this could violate the homogeneity of variance assumption.\n",
    "\n",
    "##### Violation of independence: \n",
    ">If the observations within each group are not independent of each other, ANOVA may produce inaccurate results. For example, if the same individuals are measured across different groups or if there is a time series component to the data, this could violate the independence assumption.\n",
    "\n",
    "##### Outliers:\n",
    "> If outliers present in the data then also annova will not give accurate result\n"
   ]
  },
  {
   "cell_type": "markdown",
   "id": "f202cc67",
   "metadata": {},
   "source": [
    "# Q2. What are the three types of ANOVA, and in what situations would each be used\n",
    "\n",
    "# ANS\n",
    "\n",
    "### One Way:\n",
    "* One factor and multi level where groups or levels are independent with each other\n",
    "\n",
    "> The dr has tested headach medicine with diffrent dose 10mg, 45mg, 60mg to diffrent sets of pat and asked them to rate\n",
    "\n",
    "\n",
    "### Repetated Measure of Annoa\n",
    "\n",
    "* 1 factor with multiple dependent variables of levels\n",
    "\n",
    "> running 3 days person 1 could able to run suppose 8km, 9km, 5km. Person 2: 10km, 6km, 8km the day wise people running capacity are affected\n",
    "\n",
    "\n",
    "### Factorial Annova\n",
    "* 2 Factors with multiple lveles those can be dependent or independent\n",
    "\n",
    "> running continious 2 days man and women race. here gender one factor and running one factor. male and female are independent level running capacity day wise are dependent levels\n"
   ]
  },
  {
   "cell_type": "markdown",
   "id": "14e24261",
   "metadata": {},
   "source": [
    "# Q3. What is the partitioning of variance in ANOVA, and why is it important to understand this concept?\n",
    "\n",
    "\n",
    "# ANS:\n",
    "\n",
    "#### The partitioning of variance in ANOVA :\n",
    "* refers to the process of decomposing the total variance in the data into different sources of variation, based on the grouping variables or factors. This is done by calculating the sum of squares (SS) for each source of variation, which are then used to calculate the F-statistic and determine whether there are significant differences between the group means.\n",
    "\n",
    "#### The total variance in the data can be partitioned into three components in ANOVA:\n",
    "\n",
    "##### Between-group variance (SSB): \n",
    ">This represents the variation between the group means, and is calculated by taking the sum of the squared differences between each group mean and the grand mean, weighted by the sample size of each group.\n",
    "\n",
    "##### Within-group variance (SSW): \n",
    ">This represents the variation within each group, and is calculated by taking the sum of the squared differences between each observation and its group mean, weighted by the sample size of each group.\n",
    "\n",
    "##### Total variance (SST): \n",
    ">This represents the overall variance in the data, and is calculated by taking the sum of the squared differences between each observation and the grand mean, weighted by the total sample size.\n",
    "\n",
    "\n",
    "\n",
    "### Importance\n",
    "* It is important to understand the concept of partitioning of variance in ANOVA, as it helps to identify the sources of variation in the data and determine which factors or groups are contributing to the significant differences in means. This can provide insight into the underlying mechanisms or causes of the observed differences and inform further research or decision-making. Additionally, understanding how the total variance is partitioned can also help in interpreting the results and communicating them to others."
   ]
  },
  {
   "cell_type": "markdown",
   "id": "6c6f5dbb",
   "metadata": {},
   "source": [
    "# Q4. How would you calculate the total sum of squares (SST), explained sum of squares (SSE), and residual sum of squares (SSR) in a one-way ANOVA using Python"
   ]
  },
  {
   "cell_type": "code",
   "execution_count": 11,
   "id": "c0d8c41a",
   "metadata": {},
   "outputs": [
    {
     "data": {
      "text/html": [
       "<div>\n",
       "<style scoped>\n",
       "    .dataframe tbody tr th:only-of-type {\n",
       "        vertical-align: middle;\n",
       "    }\n",
       "\n",
       "    .dataframe tbody tr th {\n",
       "        vertical-align: top;\n",
       "    }\n",
       "\n",
       "    .dataframe thead th {\n",
       "        text-align: right;\n",
       "    }\n",
       "</style>\n",
       "<table border=\"1\" class=\"dataframe\">\n",
       "  <thead>\n",
       "    <tr style=\"text-align: right;\">\n",
       "      <th></th>\n",
       "      <th>df</th>\n",
       "      <th>sum_sq</th>\n",
       "      <th>mean_sq</th>\n",
       "      <th>F</th>\n",
       "      <th>PR(&gt;F)</th>\n",
       "    </tr>\n",
       "  </thead>\n",
       "  <tbody>\n",
       "    <tr>\n",
       "      <th>Group</th>\n",
       "      <td>2.0</td>\n",
       "      <td>102.095238</td>\n",
       "      <td>51.047619</td>\n",
       "      <td>84.631579</td>\n",
       "      <td>7.004570e-10</td>\n",
       "    </tr>\n",
       "    <tr>\n",
       "      <th>Residual</th>\n",
       "      <td>18.0</td>\n",
       "      <td>10.857143</td>\n",
       "      <td>0.603175</td>\n",
       "      <td>NaN</td>\n",
       "      <td>NaN</td>\n",
       "    </tr>\n",
       "  </tbody>\n",
       "</table>\n",
       "</div>"
      ],
      "text/plain": [
       "            df      sum_sq    mean_sq          F        PR(>F)\n",
       "Group      2.0  102.095238  51.047619  84.631579  7.004570e-10\n",
       "Residual  18.0   10.857143   0.603175        NaN           NaN"
      ]
     },
     "execution_count": 11,
     "metadata": {},
     "output_type": "execute_result"
    }
   ],
   "source": [
    "import pandas as pd\n",
    "import statsmodels.api as sm\n",
    "from statsmodels.formula.api import ols\n",
    "\n",
    "# Define the data dictionary\n",
    "data_dict = {\"15mg\": [9,8,7,8,8,9,8],\n",
    "             \"30mg\": [7,6,6,7,8,7,8],\n",
    "             \"45mg\": [4,3,2,3,4,3,2]}\n",
    "\n",
    "# Convert the data dictionary to a pandas dataframe\n",
    "data = pd.DataFrame(data_dict)\n",
    "\n",
    "# Reshape the data into a long format\n",
    "data_long = pd.melt(data, var_name='Group', value_name='Value')\n",
    "\n",
    "# Fit the one-way ANOVA model\n",
    "model = ols('Value ~ Group', data=data_long).fit()\n",
    "\n",
    "# Calculate the total sum of squares (SST)\n",
    "ss_total = sm.stats.anova_lm(model, typ=1)['sum_sq'][0]\n",
    "\n",
    "# Calculate the explained sum of squares (SSE)\n",
    "ss_explained = sm.stats.anova_lm(model, typ=1)['sum_sq'][1]\n",
    "\n",
    "# Calculate the residual sum of squares (SSR)\n",
    "ss_residual = ss_total - ss_explained\n",
    "\n",
    "# Print the ANOVA table\n",
    "anova_table = sm.stats.anova_lm(model, typ=1)\n",
    "anova_table\n"
   ]
  },
  {
   "cell_type": "markdown",
   "id": "d1f9e550",
   "metadata": {},
   "source": [
    "# Q5. In a two-way ANOVA, how would you calculate the main effects and interaction effects using Python? \n",
    "\n",
    "\n",
    "# ANS\n",
    "\n",
    "\n",
    "### In a two-way ANOVA, the main effects and interaction effects can be calculated using Python by first fitting the two-way ANOVA model and then examining the ANOVA table results. "
   ]
  },
  {
   "cell_type": "markdown",
   "id": "567370ca",
   "metadata": {},
   "source": [
    "# Q6. Suppose you conducted a one-way ANOVA and obtained an F-statistic of 5.23 and a p-value of 0.02. What can you conclude about the differences between the groups, and how would you interpret these results\n",
    "\n",
    "\n",
    "# ANS\n",
    "\n",
    "If you conducted a one-way ANOVA and obtained an F-statistic of 5.23 and a p-value of 0.02, it means that there is a statistically significant difference between the means of the groups. Specifically, the F-statistic tells us that the between-group variability is 5.23 times larger than the within-group variability, and the p-value of 0.02 tells us that there is less than a 2% chance of observing such an extreme F-statistic if the means of the groups were actually equal.\n",
    "\n",
    "Therefore, we can conclude that there is strong evidence to reject the null hypothesis that the means of the groups are equal and accept the alternative hypothesis that at least one of the groups differs significantly from the others. However, we cannot determine which specific group(s) differ from the others based solely on the ANOVA results. Post-hoc tests, such as Tukey's HSD or Scheffe's method, can be conducted to determine which groups differ significantly from each other.\n",
    "\n",
    "In terms of interpretation, we can say that the results suggest that there is a significant difference in the outcome variable between the groups. The effect size of the differences between the groups can be further examined through measures such as Cohen's d or eta-squared.\n",
    "\n",
    "\n",
    "\n",
    "\n",
    "\n",
    "\n"
   ]
  },
  {
   "cell_type": "markdown",
   "id": "1cbf0445",
   "metadata": {},
   "source": [
    "# Q7. In a repeated measures ANOVA, how would you handle missing data, and what are the potential consequences of using different methods to handle missing data\n",
    "\n",
    "\n",
    "# ANS\n",
    "\n",
    "* Handling missing data in a repeated measures ANOVA requires careful consideration because missing data can affect the validity and power of the analysis. Here are some ways to handle missing data in a repeated measures ANOVA:\n",
    "\n",
    "* Pairwise deletion: This involves using only the cases that have complete data for all the variables in the analysis. While this method is simple, it can lead to a loss of power and biased estimates, especially when the amount of missing data is high.\n",
    "\n",
    "* Listwise deletion: This involves using only the cases that have complete data across all variables in the analysis. This method can result in a significant loss of power, especially when the amount of missing data is high.\n",
    "\n",
    "* Imputation: This involves replacing missing values with estimated values based on other available data in the sample. Multiple imputation and mean imputation are two common methods used for imputing missing data. This method can result in increased power and less biased estimates, especially when the amount of missing data is low.\n",
    "\n",
    "* Maximum likelihood estimation: This involves using all available data to estimate the model parameters, taking into account the covariance structure of the repeated measures. This method is the most statistically efficient method and can handle missing data in a flexible way.\n",
    "\n",
    "\n",
    "\n",
    "\n",
    "\n",
    "\n"
   ]
  },
  {
   "cell_type": "markdown",
   "id": "a0b3df8c",
   "metadata": {},
   "source": [
    "# Q8. What are some common post-hoc tests used after ANOVA, and when would you use each one? Provide an example of a situation where a post-hoc test might be necessary\n",
    "\n",
    "# ANS\n",
    "\n",
    "\n",
    "* Post-hoc tests are used to determine which specific groups differ significantly from each other in a multiple group comparison. Here are some common post-hoc tests used after ANOVA, along with their uses:\n",
    "\n",
    "* Tukey's HSD (honest significant difference): This test is used when there are multiple groups, and the goal is to determine which pairs of groups have significantly different means. Tukey's HSD controls the Type I error rate and is considered one of the most powerful post-hoc tests.\n",
    "\n",
    "* Bonferroni correction: This test is used when there are multiple comparisons and the goal is to control the overall Type I error rate. The Bonferroni correction divides the alpha level by the number of comparisons being made.\n",
    "\n",
    "* Scheffe's method: This test is used when there are multiple groups and the goal is to determine which pairs of groups have significantly different means. Scheffe's method is a conservative post-hoc test that controls the overall Type I error rate.\n",
    "\n",
    "* Dunnett's test: This test is used when there is one control group and multiple treatment groups. The goal is to determine which treatment groups have significantly different means compared to the control group.\n",
    "\n",
    "* An example of a situation where a post-hoc test might be necessary is when conducting a study to compare the effectiveness of three different treatments for a medical condition. After conducting an ANOVA to test for differences in mean effectiveness between the treatments, we may find that the overall ANOVA is statistically significant. However, we still do not know which specific treatments are significantly different from each other. In this case, we would need to conduct a post-hoc test, such as Tukey's HSD or Scheffe's method, to determine which pairs of treatments have significantly different means.\n",
    "\n",
    "\n",
    "\n",
    "\n",
    "\n"
   ]
  },
  {
   "cell_type": "markdown",
   "id": "30b97bd1",
   "metadata": {},
   "source": [
    "# Q9. A researcher wants to compare the mean weight loss of three diets: A, B, and C. They collect data from 50 participants who were randomly assigned to one of the diets. Conduct a one-way ANOVA using Python to determine if there are any significant differences between the mean weight loss of the three diets. Report the F-statistic and p-value, and interpret the result\n",
    "# ANS\n",
    "\n"
   ]
  },
  {
   "cell_type": "code",
   "execution_count": 17,
   "id": "a91591e3",
   "metadata": {},
   "outputs": [
    {
     "name": "stdout",
     "output_type": "stream",
     "text": [
      "F_stats: 11.44624378567483 , p_value: 8.916264861742875e-05\n"
     ]
    }
   ],
   "source": [
    "import pandas as pd\n",
    "import scipy.stats as stats\n",
    "\n",
    "# Create a dataframe with the weight loss data for each diet\n",
    "data = pd.DataFrame({\n",
    "    'diet': ['A']*20 + ['B']*15 + ['C']*15,\n",
    "    'weight_loss': [2.1, 1.9, 2.2, 2.5, 1.8, 2.3, 1.7, 1.6, 2.0, 2.2,\n",
    "                    1.8, 2.0, 1.7, 1.8, 1.9, 2.1, 2.2, 2.3, 1.6, 1.7,\n",
    "                    2.5, 2.1, 2.0, 1.8, 1.9, 2.0, 1.5, 1.4, 1.3, 1.6,\n",
    "                    1.4, 1.5, 1.2, 1.5, 1.7, 1.8, 1.9, 1.5, 1.6, 1.4,\n",
    "                    1.3, 1.4, 1.5, 1.2, 1.4, 1.7, 1.6, 1.8, 1.5, 1.3]\n",
    "})\n",
    "\n",
    "# Calculate the one-way ANOVA\n",
    "f_stat, p_val = stats.f_oneway(data[data['diet'] == 'A']['weight_loss'],\n",
    "                               data[data['diet'] == 'B']['weight_loss'],\n",
    "                               data[data['diet'] == 'C']['weight_loss'])\n",
    "\n",
    "# Print the results\n",
    "print(f\"F_stats: {f_stat} , p_value: {p_val}\" )\n"
   ]
  },
  {
   "cell_type": "markdown",
   "id": "4019abdc",
   "metadata": {},
   "source": [
    "# Q10. A company wants to know if there are any significant differences in the average time it takes to complete a task using three different software programs: Program A, Program B, and Program C. They randomly assign 30 employees to one of the programs and record the time it takes each employee to complete the task. Conduct a two-way ANOVA using Python to determine if there are any main effects or interaction effects between the software programs and employee experience level (novice vs. experienced). Report the F-statistics and p-values, and interpret the results\n",
    "\n",
    "\n",
    "# ANS"
   ]
  },
  {
   "cell_type": "code",
   "execution_count": 19,
   "id": "9faf8caf",
   "metadata": {},
   "outputs": [
    {
     "data": {
      "text/html": [
       "<div>\n",
       "<style scoped>\n",
       "    .dataframe tbody tr th:only-of-type {\n",
       "        vertical-align: middle;\n",
       "    }\n",
       "\n",
       "    .dataframe tbody tr th {\n",
       "        vertical-align: top;\n",
       "    }\n",
       "\n",
       "    .dataframe thead th {\n",
       "        text-align: right;\n",
       "    }\n",
       "</style>\n",
       "<table border=\"1\" class=\"dataframe\">\n",
       "  <thead>\n",
       "    <tr style=\"text-align: right;\">\n",
       "      <th></th>\n",
       "      <th>Program</th>\n",
       "      <th>Experience</th>\n",
       "      <th>Completion_Time</th>\n",
       "    </tr>\n",
       "  </thead>\n",
       "  <tbody>\n",
       "    <tr>\n",
       "      <th>0</th>\n",
       "      <td>A</td>\n",
       "      <td>novice</td>\n",
       "      <td>13.535826</td>\n",
       "    </tr>\n",
       "    <tr>\n",
       "      <th>1</th>\n",
       "      <td>A</td>\n",
       "      <td>novice</td>\n",
       "      <td>11.331095</td>\n",
       "    </tr>\n",
       "    <tr>\n",
       "      <th>2</th>\n",
       "      <td>A</td>\n",
       "      <td>novice</td>\n",
       "      <td>10.719946</td>\n",
       "    </tr>\n",
       "    <tr>\n",
       "      <th>3</th>\n",
       "      <td>A</td>\n",
       "      <td>novice</td>\n",
       "      <td>12.692098</td>\n",
       "    </tr>\n",
       "    <tr>\n",
       "      <th>4</th>\n",
       "      <td>A</td>\n",
       "      <td>novice</td>\n",
       "      <td>10.382123</td>\n",
       "    </tr>\n",
       "  </tbody>\n",
       "</table>\n",
       "</div>"
      ],
      "text/plain": [
       "  Program Experience  Completion_Time\n",
       "0       A     novice        13.535826\n",
       "1       A     novice        11.331095\n",
       "2       A     novice        10.719946\n",
       "3       A     novice        12.692098\n",
       "4       A     novice        10.382123"
      ]
     },
     "execution_count": 19,
     "metadata": {},
     "output_type": "execute_result"
    }
   ],
   "source": [
    "import pandas as pd\n",
    "import numpy as np\n",
    "\n",
    "# Create a list of the software programs (A, B, C)\n",
    "programs = ['A', 'B', 'C']\n",
    "\n",
    "# Create a list of the experience levels (novice, experienced)\n",
    "experience = ['novice', 'experienced']\n",
    "\n",
    "# Create a dictionary to hold the completion time data\n",
    "data_dict = {'Program': [], 'Experience': [], 'Completion_Time': []}\n",
    "\n",
    "# Generate completion times for each program and experience level\n",
    "for program in programs:\n",
    "    for exp in experience:\n",
    "        # Generate 30 random completion times for each program and experience level\n",
    "        times = np.random.normal(loc=10, scale=2, size=30)\n",
    "        \n",
    "        # Add the data to the dictionary\n",
    "        data_dict['Program'].extend([program]*30)\n",
    "        data_dict['Experience'].extend([exp]*30)\n",
    "        data_dict['Completion_Time'].extend(times)\n",
    "\n",
    "# Create the pandas dataframe\n",
    "df = pd.DataFrame(data_dict)\n",
    "\n",
    "\n",
    "df.head()\n"
   ]
  },
  {
   "cell_type": "code",
   "execution_count": 21,
   "id": "86ef76ba",
   "metadata": {},
   "outputs": [
    {
     "name": "stdout",
     "output_type": "stream",
     "text": [
      "                              sum_sq     df         F    PR(>F)\n",
      "C(Program)                  2.880133    2.0  0.399093  0.671541\n",
      "C(Experience)               8.080149    1.0  2.239296  0.136354\n",
      "C(Program):C(Experience)   21.601805    2.0  2.993313  0.052709\n",
      "Residual                  627.851867  174.0       NaN       NaN\n"
     ]
    }
   ],
   "source": [
    "model = ols('Completion_Time ~ C(Program) + C(Experience) + C(Program):C(Experience)', data=df).fit()\n",
    "anova_table = sm.stats.anova_lm(model, typ=2)\n",
    "print(anova_table)\n",
    "\n"
   ]
  },
  {
   "cell_type": "markdown",
   "id": "70d62160",
   "metadata": {},
   "source": [
    "# Q11. An educational researcher is interested in whether a new teaching method improves student test scores. They randomly assign 100 students to either the control group (traditional teaching method) or the experimental group (new teaching method) and administer a test at the end of the semester. Conduct a two-sample t-test using Python to determine if there are any significant differences in test scores between the two groups. If the results are significant, follow up with a post-hoc test to determine which group(s) differ significantly from each other."
   ]
  },
  {
   "cell_type": "code",
   "execution_count": 22,
   "id": "c2e00bf8",
   "metadata": {},
   "outputs": [
    {
     "name": "stdout",
     "output_type": "stream",
     "text": [
      "T-statistic:  -3.0316172004188147\n",
      "P-value:  0.0027577299763983324\n"
     ]
    }
   ],
   "source": [
    "import numpy as np\n",
    "from scipy.stats import ttest_ind\n",
    "\n",
    "# Generate some example data\n",
    "np.random.seed(123)\n",
    "control_scores = np.random.normal(loc=70, scale=10, size=100)\n",
    "experimental_scores = np.random.normal(loc=75, scale=10, size=100)\n",
    "\n",
    "# Conduct the t-test\n",
    "t_stat, p_value = ttest_ind(control_scores, experimental_scores)\n",
    "\n",
    "# Print the results\n",
    "print(\"T-statistic: \", t_stat)\n",
    "print(\"P-value: \", p_value)\n"
   ]
  },
  {
   "cell_type": "code",
   "execution_count": 23,
   "id": "398033bc",
   "metadata": {},
   "outputs": [
    {
     "name": "stdout",
     "output_type": "stream",
     "text": [
      "   Multiple Comparison of Means - Tukey HSD, FWER=0.05   \n",
      "=========================================================\n",
      " group1    group2    meandiff p-adj  lower  upper  reject\n",
      "---------------------------------------------------------\n",
      "control experimental   4.5336 0.0028 1.5846 7.4826   True\n",
      "---------------------------------------------------------\n"
     ]
    }
   ],
   "source": [
    "import statsmodels.stats.multicomp as mc\n",
    "\n",
    "# Combine the control and experimental scores into a single array\n",
    "all_scores = np.concatenate([control_scores, experimental_scores])\n",
    "\n",
    "# Create a list of labels indicating which group each score belongs to\n",
    "group_labels = ['control']*100 + ['experimental']*100\n",
    "\n",
    "# Perform Tukey's HSD test\n",
    "tukey_results = mc.MultiComparison(all_scores, group_labels).tukeyhsd()\n",
    "\n",
    "# Print the results\n",
    "print(tukey_results)\n"
   ]
  },
  {
   "cell_type": "markdown",
   "id": "3ec33de7",
   "metadata": {},
   "source": [
    "# Q12. A researcher wants to know if there are any significant differences in the average daily sales of three retail stores: Store A, Store B, and Store C. They randomly select 30 days and record the sales for each store on those days. Conduct a repeated measures ANOVA using Python to determine if there are any significant differences in sales between the three stores. If the results are signi\n",
    "\n",
    "# ANS"
   ]
  },
  {
   "cell_type": "code",
   "execution_count": 24,
   "id": "2806717e",
   "metadata": {},
   "outputs": [
    {
     "name": "stdout",
     "output_type": "stream",
     "text": [
      "                            OLS Regression Results                            \n",
      "==============================================================================\n",
      "Dep. Variable:                  Sales   R-squared:                       0.227\n",
      "Model:                            OLS   Adj. R-squared:                  0.181\n",
      "Method:                 Least Squares   F-statistic:                     4.930\n",
      "Date:                Sun, 19 Mar 2023   Prob (F-statistic):           0.000526\n",
      "Time:                        22:16:13   Log-Likelihood:                -414.19\n",
      "No. Observations:                  90   AIC:                             840.4\n",
      "Df Residuals:                      84   BIC:                             855.4\n",
      "Df Model:                           5                                         \n",
      "Covariance Type:            nonrobust                                         \n",
      "==================================================================================\n",
      "                     coef    std err          t      P>|t|      [0.025      0.975]\n",
      "----------------------------------------------------------------------------------\n",
      "Intercept         98.4419      9.350     10.528      0.000      79.848     117.035\n",
      "Store[T.B]        -2.8537     13.223     -0.216      0.830     -29.149      23.442\n",
      "Store[T.C]         9.5691     13.223      0.724      0.471     -16.726      35.864\n",
      "Day                0.1582      0.527      0.300      0.765      -0.889       1.206\n",
      "Store[T.B]:Day     1.6449      0.745      2.208      0.030       0.164       3.126\n",
      "Store[T.C]:Day    -0.1418      0.745     -0.190      0.849      -1.623       1.339\n",
      "==============================================================================\n",
      "Omnibus:                        2.686   Durbin-Watson:                   2.143\n",
      "Prob(Omnibus):                  0.261   Jarque-Bera (JB):                1.681\n",
      "Skew:                           0.030   Prob(JB):                        0.431\n",
      "Kurtosis:                       2.333   Cond. No.                         136.\n",
      "==============================================================================\n",
      "\n",
      "Notes:\n",
      "[1] Standard Errors assume that the covariance matrix of the errors is correctly specified.\n"
     ]
    }
   ],
   "source": [
    "import pandas as pd\n",
    "import statsmodels.api as sm\n",
    "from statsmodels.formula.api import ols\n",
    "\n",
    "# Generate some example data\n",
    "np.random.seed(123)\n",
    "store_a = np.random.normal(loc=100, scale=20, size=30)\n",
    "store_b = np.random.normal(loc=120, scale=25, size=30)\n",
    "store_c = np.random.normal(loc=110, scale=22, size=30)\n",
    "sales = np.concatenate([store_a, store_b, store_c])\n",
    "stores = ['A']*30 + ['B']*30 + ['C']*30\n",
    "days = list(range(1,31))*3\n",
    "\n",
    "# Create a dataframe\n",
    "df = pd.DataFrame({'Sales': sales, 'Store': stores, 'Day': days})\n",
    "\n",
    "# Fit the repeated measures ANOVA model\n",
    "model = ols('Sales ~ Store + Day + Store:Day', data=df).fit()\n",
    "\n",
    "# Print the results\n",
    "print(model.summary())\n"
   ]
  },
  {
   "cell_type": "code",
   "execution_count": null,
   "id": "e304efd8",
   "metadata": {},
   "outputs": [],
   "source": []
  }
 ],
 "metadata": {
  "kernelspec": {
   "display_name": "Python 3 (ipykernel)",
   "language": "python",
   "name": "python3"
  },
  "language_info": {
   "codemirror_mode": {
    "name": "ipython",
    "version": 3
   },
   "file_extension": ".py",
   "mimetype": "text/x-python",
   "name": "python",
   "nbconvert_exporter": "python",
   "pygments_lexer": "ipython3",
   "version": "3.9.13"
  }
 },
 "nbformat": 4,
 "nbformat_minor": 5
}
