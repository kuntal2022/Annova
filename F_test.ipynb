{
 "cells": [
  {
   "cell_type": "markdown",
   "id": "16c997d2",
   "metadata": {},
   "source": [
    "#  1. Write a Python function that takes in two arrays of data and calculates the F-value for a variance ratio test. The function should return the F-value and the corresponding p-value for the test.\n",
    "\n",
    "\n",
    "# ANS"
   ]
  },
  {
   "cell_type": "code",
   "execution_count": 2,
   "id": "1da018ec",
   "metadata": {},
   "outputs": [],
   "source": [
    "import numpy as np, pandas as pd, scipy.stats as stats\n",
    "def F_Ratio(ar1,ar2):\n",
    "    import scipy.stats as stats\n",
    "    var1=np.var(ar1)\n",
    "    var2=np.var(ar2)\n",
    "    ff=var1/var2\n",
    "    df1=len(ar1)-1\n",
    "    df2=len(ar2)-1\n",
    "    sig=0.95\n",
    "    p_val=stats.f.sf(ff, df1, df2) \n",
    "    return (p_val, ff)"
   ]
  },
  {
   "cell_type": "code",
   "execution_count": 3,
   "id": "8c42a808",
   "metadata": {},
   "outputs": [],
   "source": [
    "ar1=np.arange(100).reshape(5,20)\n",
    "ar2=np.arange(100).reshape(5,20)\n",
    "ar2=ar2*2"
   ]
  },
  {
   "cell_type": "code",
   "execution_count": 6,
   "id": "9feac185",
   "metadata": {},
   "outputs": [
    {
     "name": "stdout",
     "output_type": "stream",
     "text": [
      "p val: 0.896, F-Value: 0.25\n"
     ]
    }
   ],
   "source": [
    "p_val, f_test=F_Ratio(ar1, ar2)\n",
    "print(f\"p val: {p_val}, F-Value: {f_test}\")"
   ]
  },
  {
   "cell_type": "markdown",
   "id": "118a498c",
   "metadata": {},
   "source": [
    "# Q2. Given a significance level of 0.05 and the degrees of freedom for the numerator and denominator of an F-distribution, write a Python function that returns the critical F-value for a two-tailed test\n",
    "\n",
    "# ANS\n",
    "\n"
   ]
  },
  {
   "cell_type": "code",
   "execution_count": 7,
   "id": "fed54d95",
   "metadata": {},
   "outputs": [
    {
     "name": "stdout",
     "output_type": "stream",
     "text": [
      "Critical F-value: 0.025349884618969976\n"
     ]
    }
   ],
   "source": [
    "from scipy.stats import f\n",
    "\n",
    "def critical_f_value(alpha, df1, df2):\n",
    "    \"\"\"\n",
    "    This function takes in a significance level (alpha) and degrees of freedom for the numerator (df1) and \n",
    "    denominator (df2) of an F-distribution, and returns the critical F-value for a two-tailed test.\n",
    "    \"\"\"\n",
    "    # Calculate the critical F-value\n",
    "    F_crit = f.ppf(alpha/2, df1, df2)\n",
    "    \n",
    "    # Return the critical F-value\n",
    "    return F_crit\n",
    "alpha = 0.05\n",
    "df1 = 2\n",
    "df2 = 20\n",
    "\n",
    "F_crit = critical_f_value(alpha, df1, df2)\n",
    "print(\"Critical F-value:\", F_crit)\n"
   ]
  },
  {
   "cell_type": "markdown",
   "id": "bd664ebc",
   "metadata": {},
   "source": [
    "# Q3. Write a Python program that generates random samples from two normal distributions with known variances and uses an F-test to determine if the variances are equal. The program should output the F\u0002value, degrees offreedom, and p-value for "
   ]
  },
  {
   "cell_type": "code",
   "execution_count": 8,
   "id": "8e541360",
   "metadata": {},
   "outputs": [
    {
     "name": "stdout",
     "output_type": "stream",
     "text": [
      "F-value: 0.5338550461708405\n",
      "Degrees of freedom: 29 , 39\n",
      "p-value: 0.9589941204571879\n"
     ]
    }
   ],
   "source": [
    "import numpy as np\n",
    "from scipy.stats import f\n",
    "\n",
    "# Set the seed for reproducibility\n",
    "np.random.seed(123)\n",
    "\n",
    "# Generate random samples from two normal distributions\n",
    "mean1, mean2 = 0, 0\n",
    "var1, var2 = 1, 2\n",
    "n1, n2 = 30, 40\n",
    "\n",
    "sample1 = np.random.normal(mean1, np.sqrt(var1), n1)\n",
    "sample2 = np.random.normal(mean2, np.sqrt(var2), n2)\n",
    "\n",
    "# Perform an F-test to determine if the variances are equal\n",
    "F = np.var(sample1, ddof=1) / np.var(sample2, ddof=1)\n",
    "df1 = n1 - 1\n",
    "df2 = n2 - 1\n",
    "p_value = f.sf(F, df1, df2)\n",
    "\n",
    "# Output the F-value, degrees of freedom, and p-value\n",
    "print(\"F-value:\", F)\n",
    "print(\"Degrees of freedom:\", df1, \",\", df2)\n",
    "print(\"p-value:\", p_value)\n"
   ]
  },
  {
   "cell_type": "markdown",
   "id": "f9a98f68",
   "metadata": {},
   "source": [
    "# Q4.The variances of two populations are known to be 10 and 15. A sample of 12 observations is taken from each population. Conduct an F-test at the 5% significance level to determine if the variances are significantly differen"
   ]
  },
  {
   "cell_type": "code",
   "execution_count": 9,
   "id": "308aa9cc",
   "metadata": {},
   "outputs": [
    {
     "name": "stdout",
     "output_type": "stream",
     "text": [
      "The null hypothesis is not rejected. The variances are not significantly different.\n"
     ]
    }
   ],
   "source": [
    "import numpy as np\n",
    "from scipy.stats import f\n",
    "\n",
    "# Set the significance level\n",
    "alpha = 0.05\n",
    "\n",
    "# Set the known variances and sample sizes\n",
    "var1 = 10\n",
    "var2 = 15\n",
    "n1 = 12\n",
    "n2 = 12\n",
    "\n",
    "# Calculate the F-value\n",
    "F = var1 / var2\n",
    "\n",
    "# Calculate the degrees of freedom\n",
    "df1 = n1 - 1\n",
    "df2 = n2 - 1\n",
    "\n",
    "# Calculate the p-value\n",
    "p_value = f.sf(F, df1, df2)\n",
    "\n",
    "# Determine if the null hypothesis is rejected\n",
    "if p_value < alpha:\n",
    "    print(\"The null hypothesis is rejected. The variances are significantly different.\")\n",
    "else:\n",
    "    print(\"The null hypothesis is not rejected. The variances are not significantly different.\")\n"
   ]
  },
  {
   "cell_type": "markdown",
   "id": "8e07122a",
   "metadata": {},
   "source": [
    "# Q5. A manufacturer claims that the variance of the diameter of a certain product is 0.005. A sample of 25 products is taken, and the sample variance is found to be 0.006. Conduct an F-test at the 1% significance level to determine if the claim is justified"
   ]
  },
  {
   "cell_type": "code",
   "execution_count": 10,
   "id": "ae26690f",
   "metadata": {},
   "outputs": [
    {
     "name": "stdout",
     "output_type": "stream",
     "text": [
      "The null hypothesis is not rejected. The claim is justified.\n"
     ]
    }
   ],
   "source": [
    "import numpy as np\n",
    "from scipy.stats import f\n",
    "\n",
    "# Set the significance level\n",
    "alpha = 0.01\n",
    "\n",
    "# Set the null hypothesis (H0) and alternative hypothesis (Ha)\n",
    "# H0: The variance of the population is equal to 0.005\n",
    "# Ha: The variance of the population is greater than 0.005\n",
    "null_var = 0.005\n",
    "\n",
    "# Calculate the F-value\n",
    "sample_var = 0.006\n",
    "F = sample_var / null_var\n",
    "\n",
    "# Calculate the degrees of freedom\n",
    "df1 = 24  # degrees of freedom for the numerator\n",
    "df2 = 25 - 1  # degrees of freedom for the denominator\n",
    "\n",
    "# Calculate the p-value\n",
    "p_value = f.sf(F, df1, df2)\n",
    "\n",
    "# Determine if the null hypothesis is rejected\n",
    "if p_value < alpha:\n",
    "    print(\"The null hypothesis is rejected. The claim is not justified.\")\n",
    "else:\n",
    "    print(\"The null hypothesis is not rejected. The claim is justified.\")\n"
   ]
  },
  {
   "cell_type": "markdown",
   "id": "18253898",
   "metadata": {},
   "source": [
    "# Q6. Write a Python function that takes in the degrees of freedom for the numerator and denominator of an F-distribution and calculates the mean and variance of the distribution. The function should return the mean and variance as a tuple"
   ]
  },
  {
   "cell_type": "code",
   "execution_count": 13,
   "id": "aa0dd629",
   "metadata": {},
   "outputs": [
    {
     "data": {
      "text/plain": [
       "(1.4, 2.24)"
      ]
     },
     "execution_count": 13,
     "metadata": {},
     "output_type": "execute_result"
    }
   ],
   "source": [
    "def f_dist_mean_var(dfn, dfd):\n",
    "    \"\"\"Calculate the mean and variance of an F-distribution given the degrees of freedom for the numerator and denominator.\n",
    "    \n",
    "    Args:\n",
    "    dfn (int): Degrees of freedom for the numerator.\n",
    "    dfd (int): Degrees of freedom for the denominator.\n",
    "    \n",
    "    Returns:\n",
    "    tuple: Mean and variance of the F-distribution.\n",
    "    \"\"\"\n",
    "    # Calculate the mean\n",
    "    if dfd > 2:\n",
    "        mean = dfd / (dfd - 2)\n",
    "    else:\n",
    "        mean = float('inf')\n",
    "    \n",
    "    # Calculate the variance\n",
    "    if dfd > 4:\n",
    "        variance = (2 * (dfd ** 2) * (dfn + dfd - 2)) / ((dfn * (dfd - 2) ** 2 * (dfd - 4)))\n",
    "    else:\n",
    "        variance = float('nan')\n",
    "    \n",
    "    return (mean, variance)\n",
    "\n",
    "\n",
    "f_dist_mean_var(7,7)"
   ]
  },
  {
   "cell_type": "markdown",
   "id": "15998ce0",
   "metadata": {},
   "source": [
    "# Q7. A random sample of 10 measurements is taken from a normal population with unknown variance. The sample variance is found to be 25. Another random sample of 15 measurements is taken from another normal population with unknown variance, and the sample variance is found to be 20. Conduct an F-test at the 10% significance level to determine if the variances are significantly differen"
   ]
  },
  {
   "cell_type": "code",
   "execution_count": 14,
   "id": "d45ca647",
   "metadata": {},
   "outputs": [
    {
     "name": "stdout",
     "output_type": "stream",
     "text": [
      "The null hypothesis is not rejected. The variances are not significantly different.\n"
     ]
    }
   ],
   "source": [
    "import numpy as np\n",
    "from scipy.stats import f\n",
    "\n",
    "# Set the significance level\n",
    "alpha = 0.10\n",
    "\n",
    "# Set the null hypothesis (H0) and alternative hypothesis (Ha)\n",
    "# H0: The variances of the populations are equal\n",
    "# Ha: The variances of the populations are not equal\n",
    "null_var1 = 25\n",
    "null_var2 = 20\n",
    "\n",
    "# Calculate the F-value\n",
    "sample_var1 = 25\n",
    "sample_var2 = 20\n",
    "F = sample_var1 / sample_var2\n",
    "\n",
    "# Calculate the degrees of freedom\n",
    "df1 = 9  # degrees of freedom for the numerator (sample_var1)\n",
    "df2 = 14  # degrees of freedom for the denominator (sample_var2)\n",
    "\n",
    "# Calculate the p-value\n",
    "p_value = 2 * min(f.sf(F, df1, df2), f.cdf(F, df1, df2))\n",
    "\n",
    "# Determine if the null hypothesis is rejected\n",
    "if p_value < alpha:\n",
    "    print(\"The null hypothesis is rejected. The variances are significantly different.\")\n",
    "else:\n",
    "    print(\"The null hypothesis is not rejected. The variances are not significantly different.\")\n"
   ]
  },
  {
   "cell_type": "markdown",
   "id": "284c4153",
   "metadata": {},
   "source": [
    "# Q8. The following data represent the waiting times in minutes at two different restaurants on a Saturday night: Restaurant A: 24, 25, 28, 23, 22, 20, 27; Restaurant B: 31, 33, 35, 30, 32, 36. Conduct an F-test at the 5% significance level to determine if the variances are significantly differen"
   ]
  },
  {
   "cell_type": "code",
   "execution_count": 15,
   "id": "9610a501",
   "metadata": {},
   "outputs": [
    {
     "name": "stdout",
     "output_type": "stream",
     "text": [
      "The null hypothesis is not rejected. The variances are not significantly different.\n"
     ]
    }
   ],
   "source": [
    "import numpy as np\n",
    "from scipy.stats import f\n",
    "\n",
    "# Set the significance level\n",
    "alpha = 0.05\n",
    "\n",
    "# Set the null hypothesis (H0) and alternative hypothesis (Ha)\n",
    "# H0: The variances of the populations are equal\n",
    "# Ha: The variances of the populations are not equal\n",
    "\n",
    "# Define the two samples\n",
    "sample_a = np.array([24, 25, 28, 23, 22, 20, 27])\n",
    "sample_b = np.array([31, 33, 35, 30, 32, 36])\n",
    "\n",
    "# Calculate the sample variances\n",
    "sample_var_a = np.var(sample_a, ddof=1)\n",
    "sample_var_b = np.var(sample_b, ddof=1)\n",
    "\n",
    "# Calculate the F-value\n",
    "F = sample_var_a / sample_var_b\n",
    "\n",
    "# Calculate the degrees of freedom\n",
    "df1 = len(sample_a) - 1  # degrees of freedom for the numerator (sample_var_a)\n",
    "df2 = len(sample_b) - 1  # degrees of freedom for the denominator (sample_var_b)\n",
    "\n",
    "# Calculate the p-value\n",
    "p_value = 2 * min(f.sf(F, df1, df2), f.cdf(F, df1, df2))\n",
    "\n",
    "# Determine if the null hypothesis is rejected\n",
    "if p_value < alpha:\n",
    "    print(\"The null hypothesis is rejected. The variances are significantly different.\")\n",
    "else:\n",
    "    print(\"The null hypothesis is not rejected. The variances are not significantly different.\")\n"
   ]
  },
  {
   "cell_type": "markdown",
   "id": "863f8ad2",
   "metadata": {},
   "source": [
    "# Q9. The following data represent the test scores of two groups of students: Group A: 80, 85, 90, 92, 87, 83; Group B: 75, 78, 82, 79, 81, 84. Conduct an F-test at the 1% significance level to determine if the variances are significantly differen"
   ]
  },
  {
   "cell_type": "code",
   "execution_count": 16,
   "id": "c1123c85",
   "metadata": {},
   "outputs": [
    {
     "name": "stdout",
     "output_type": "stream",
     "text": [
      "The null hypothesis is not rejected. The variances are not significantly different.\n"
     ]
    }
   ],
   "source": [
    "import numpy as np\n",
    "from scipy.stats import f\n",
    "\n",
    "# Set the significance level\n",
    "alpha = 0.01\n",
    "\n",
    "# Set the null hypothesis (H0) and alternative hypothesis (Ha)\n",
    "# H0: The variances of the populations are equal\n",
    "# Ha: The variances of the populations are not equal\n",
    "\n",
    "# Define the two samples\n",
    "sample_a = np.array([80, 85, 90, 92, 87, 83])\n",
    "sample_b = np.array([75, 78, 82, 79, 81, 84])\n",
    "\n",
    "# Calculate the sample variances\n",
    "sample_var_a = np.var(sample_a, ddof=1)\n",
    "sample_var_b = np.var(sample_b, ddof=1)\n",
    "\n",
    "# Calculate the F-value\n",
    "F = sample_var_a / sample_var_b\n",
    "\n",
    "# Calculate the degrees of freedom\n",
    "df1 = len(sample_a) - 1  # degrees of freedom for the numerator (sample_var_a)\n",
    "df2 = len(sample_b) - 1  # degrees of freedom for the denominator (sample_var_b)\n",
    "\n",
    "# Calculate the p-value\n",
    "p_value = 2 * min(f.sf(F, df1, df2), f.cdf(F, df1, df2))\n",
    "\n",
    "# Determine if the null hypothesis is rejected\n",
    "if p_value < alpha:\n",
    "    print(\"The null hypothesis is rejected. The variances are significantly different.\")\n",
    "else:\n",
    "    print(\"The null hypothesis is not rejected. The variances are not significantly different.\")\n"
   ]
  },
  {
   "cell_type": "code",
   "execution_count": null,
   "id": "64006461",
   "metadata": {},
   "outputs": [],
   "source": []
  }
 ],
 "metadata": {
  "kernelspec": {
   "display_name": "Python 3 (ipykernel)",
   "language": "python",
   "name": "python3"
  },
  "language_info": {
   "codemirror_mode": {
    "name": "ipython",
    "version": 3
   },
   "file_extension": ".py",
   "mimetype": "text/x-python",
   "name": "python",
   "nbconvert_exporter": "python",
   "pygments_lexer": "ipython3",
   "version": "3.9.13"
  }
 },
 "nbformat": 4,
 "nbformat_minor": 5
}
